class Car:
    def __init__(self, brand, model, year, type, color):
        self.brand = brand
        self.model = model
        self.year = year
        self.type = type
        self.color = color
    def __repr__(self):
        return f"Car({self.brand}, {self.model}, {self.year}, {self.type}, {self.color})"
car1 = Car("Toyota", "Corolla", 2020, "Sedan", "Blue")
car2 = Car("Ford", "Mustang", 2022, "Coupe", "Black")
2:07
print(car1)
print(car2)

