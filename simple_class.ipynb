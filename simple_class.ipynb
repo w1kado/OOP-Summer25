{
 "cells": [
  {
   "cell_type": "markdown",
   "id": "a75c8592",
   "metadata": {},
   "source": [
    "# Simplest class ever"
   ]
  },
  {
   "cell_type": "code",
   "execution_count": 1,
   "id": "a639312e",
   "metadata": {},
   "outputs": [],
   "source": [
    "class Bike:\n",
    "    pass"
   ]
  },
  {
   "cell_type": "markdown",
   "id": "a04cb53c",
   "metadata": {},
   "source": [
    "### What can we do with such class?"
   ]
  },
  {
   "cell_type": "markdown",
   "id": "5279c203",
   "metadata": {},
   "source": [
    "1. We can create an object even if it is empty"
   ]
  },
  {
   "cell_type": "code",
   "execution_count": 2,
   "id": "7cd8e586",
   "metadata": {},
   "outputs": [
    {
     "data": {
      "text/plain": [
       "<__main__.Bike at 0x741ca0511640>"
      ]
     },
     "execution_count": 2,
     "metadata": {},
     "output_type": "execute_result"
    }
   ],
   "source": [
    "Bike() "
   ]
  },
  {
   "cell_type": "markdown",
   "id": "efd87187",
   "metadata": {},
   "source": [
    "2. We can create and assign the object to the variable"
   ]
  },
  {
   "cell_type": "code",
   "execution_count": 3,
   "id": "3965bfef",
   "metadata": {},
   "outputs": [],
   "source": [
    "my_bike = Bike()"
   ]
  }
 ],
 "metadata": {
  "kernelspec": {
   "display_name": "Python 3",
   "language": "python",
   "name": "python3"
  },
  "language_info": {
   "codemirror_mode": {
    "name": "ipython",
    "version": 3
   },
   "file_extension": ".py",
   "mimetype": "text/x-python",
   "name": "python",
   "nbconvert_exporter": "python",
   "pygments_lexer": "ipython3",
   "version": "3.12.1"
  }
 },
 "nbformat": 4,
 "nbformat_minor": 5
}
