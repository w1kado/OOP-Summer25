{
 "cells": [
  {
   "cell_type": "markdown",
   "id": "de47283c",
   "metadata": {},
   "source": [
    "## Class with attributes"
   ]
  },
  {
   "cell_type": "code",
   "execution_count": 8,
   "id": "cc1e5264",
   "metadata": {},
   "outputs": [],
   "source": [
    "# We want to have some info about Bike, so we need to add attributes\n",
    "class Bike:\n",
    "    def __init__(self, color, bike_type):\n",
    "        self.color = color\n",
    "        self.bike_type = bike_type"
   ]
  },
  {
   "cell_type": "code",
   "execution_count": 9,
   "id": "221b2f16",
   "metadata": {},
   "outputs": [],
   "source": [
    "bike1 = Bike(\"red\", \"mtb\")"
   ]
  },
  {
   "cell_type": "code",
   "execution_count": 14,
   "id": "c2302725",
   "metadata": {},
   "outputs": [
    {
     "name": "stdout",
     "output_type": "stream",
     "text": [
      "My mtb bike is red\n"
     ]
    }
   ],
   "source": [
    "print(\"My\", bike1.bike_type, \"bike is\", bike1.color, )"
   ]
  }
 ],
 "metadata": {
  "kernelspec": {
   "display_name": "Python 3",
   "language": "python",
   "name": "python3"
  },
  "language_info": {
   "codemirror_mode": {
    "name": "ipython",
    "version": 3
   },
   "file_extension": ".py",
   "mimetype": "text/x-python",
   "name": "python",
   "nbconvert_exporter": "python",
   "pygments_lexer": "ipython3",
   "version": "3.12.1"
  }
 },
 "nbformat": 4,
 "nbformat_minor": 5
}
